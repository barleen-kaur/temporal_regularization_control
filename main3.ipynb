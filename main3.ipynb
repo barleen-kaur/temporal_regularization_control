{
 "cells": [
  {
   "cell_type": "markdown",
   "metadata": {},
   "source": [
    "# Temporal Regularization for Control: Toy Example\n",
    "\n",
    "\n"
   ]
  },
  {
   "cell_type": "markdown",
   "metadata": {},
   "source": [
    "### Loading Libraries and setting up environment"
   ]
  },
  {
   "cell_type": "code",
   "execution_count": 86,
   "metadata": {},
   "outputs": [],
   "source": [
    "%reload_ext autoreload"
   ]
  },
  {
   "cell_type": "code",
   "execution_count": 87,
   "metadata": {},
   "outputs": [],
   "source": [
    "from envs.ring_chain import RingChain\n",
    "from envs.linear_risk_chain import LinearRiskChain\n",
    "from agent import AgentNstepSARSA\n",
    "from agent import AgentSARSA\n",
    "import numpy as np\n",
    "import pdb\n",
    "import matplotlib.pyplot as plt"
   ]
  },
  {
   "cell_type": "code",
   "execution_count": 96,
   "metadata": {},
   "outputs": [],
   "source": [
    "env = RingChain(horizon=10000)\n",
    "# env = LinearRiskChain()"
   ]
  },
  {
   "cell_type": "markdown",
   "metadata": {},
   "source": [
    "## SARSA"
   ]
  },
  {
   "cell_type": "markdown",
   "metadata": {},
   "source": [
    "#### Implementation in a function"
   ]
  },
  {
   "cell_type": "code",
   "execution_count": 118,
   "metadata": {},
   "outputs": [],
   "source": [
    "def runSARSA(env, agent, randomStates, updateAllStates=False):\n",
    "    MSE = []\n",
    "    Qvals = []\n",
    "    Qvals.append(agent.Q.copy())\n",
    "    for ep in range(1):\n",
    "        state = env.reset()\n",
    "        action = agent.chooseActionEps(state)\n",
    "        agent.initializeP(state)\n",
    "        T = 10000\n",
    "        for t in range(T):\n",
    "            state2, reward, done, _ = env.step(action)\n",
    "            action2 = agent.chooseActionEps(state2)\n",
    "            agent.updatePolicySARSA(state, action, reward, state2, action2, randomStates)\n",
    "            MSE.append(np.square(agent.Q[randomStates[0],:] - env.optimalQ[randomStates[0],:]).mean())\n",
    "            Qvals.append(agent.Q.copy())\n",
    "            state, action = state2, action2\n",
    "            if(done):\n",
    "                break\n",
    "    return MSE, Qvals"
   ]
  },
  {
   "cell_type": "markdown",
   "metadata": {},
   "source": [
    "#### Running in loop for different values of beta"
   ]
  },
  {
   "cell_type": "code",
   "execution_count": 123,
   "metadata": {},
   "outputs": [
    {
     "data": {
      "image/png": "[encoded data removed]",
      "text/plain": [
       "<Figure size 576x432 with 1 Axes>"
      ]
     },
     "metadata": {},
     "output_type": "display_data"
    }
   ],
   "source": [
    "seed = 800\n",
    "randomStates = [4,5]\n",
    "alpha = 0.1\n",
    "plt.figure(figsize=(8,6))\n",
    "for beta in [0, 0.3, 0.6, 1]:\n",
    "    for lambd in [0.2]:\n",
    "        agent = AgentSARSA(env, epsDecay=False, eps=0.05, beta=beta, lambd=lambd, alpha=alpha)\n",
    "        agent.Q = env.optimalQ.copy()\n",
    "        np.random.seed(seed)\n",
    "        agent.Q[randomStates,:] = np.random.rand(len(randomStates),2)*5\n",
    "        MSE, _ = runSARSA(env, agent, randomStates)\n",
    "        plt.plot(MSE[:2000], label=r'$\\beta$={}, $\\lambda$={}, $\\alpha$={}, seed={}'.format(beta, lambd, alpha, seed))\n",
    "plt.legend(), plt.xlabel('iterations'), plt.ylabel('MSE'), plt.title('ring chain example, statesRandom:' + str(randomStates))\n",
    "plt.show()"
   ]
  },
  {
   "cell_type": "markdown",
   "metadata": {},
   "source": [
    "#### SARSA implementation (without function)"
   ]
  },
  {
   "cell_type": "code",
   "execution_count": null,
   "metadata": {},
   "outputs": [],
   "source": [
    "agent = AgentSARSA(env, epsDecay=False, eps=0.05, beta=0, alpha=0.05)\n",
    "for ep in range(5):\n",
    "    print('ep = ' + str(ep))\n",
    "    state = env.reset()\n",
    "    action = agent.chooseActionEps(state)\n",
    "    agent.initializeP(state)\n",
    "    T = 10000\n",
    "    for t in range(T):\n",
    "        state2, reward, done, _ = env.step(action)\n",
    "        action2 = agent.chooseActionEps(state2)\n",
    "        agent.updatePolicySARSA(state, action, reward, state2, action2)\n",
    "        state, action = state2, action2\n",
    "        if(done):\n",
    "            break\n",
    "            \n",
    "        if(t%1000==0):\n",
    "            print('t, eps = ', t, agent.epst)\n",
    "            plt.plot(agent.Q[:,0], label='action 0')\n",
    "            plt.plot(agent.Q[:,1], label='action 1')\n",
    "            plt.xlabel('state'), plt.ylabel('Q(s,a)'),plt.title('Optimal policy at eps = ' + str(agent.epst))\n",
    "            plt.legend(), plt.show()\n",
    "            "
   ]
  },
  {
   "cell_type": "markdown",
   "metadata": {},
   "source": [
    "## N-step SARSA"
   ]
  },
  {
   "cell_type": "code",
   "execution_count": null,
   "metadata": {
    "scrolled": true
   },
   "outputs": [],
   "source": [
    "# pdb.set_trace()\n",
    "agent = AgentNstepSARSA(env, no_steps=2, eps=0.5, epsDecay=True)\n",
    "n = agent.no_steps\n",
    "for ep in range(10):\n",
    "    print('ep = ' + str(ep))\n",
    "    state = env.reset()\n",
    "    action = agent.chooseActionEps(state)\n",
    "    agent.state_memory[0], agent.action_memory[0] =  state, action\n",
    "    T = 10000\n",
    "    for t in range(T):\n",
    "        if(t < T):\n",
    "            state, reward, done, _ = env.step(action)\n",
    "            agent.state_memory[t+1], agent.reward_memory[t+1] = state, reward\n",
    "            if(done):\n",
    "                print(\"done\")\n",
    "                T = t + 1\n",
    "            else:\n",
    "                action = agent.chooseActionEps(state)\n",
    "                agent.action_memory[t+1] = action\n",
    "        tau  = t - n + 1\n",
    "        if(tau>=0):\n",
    "            rewardsVector = agent.reward_memory[tau+1:np.minimum(tau+n,T)]\n",
    "            discountingVector = np.power(agent.gamma, np.arange(0, rewardsVector.shape[0]))\n",
    "            G = np.sum(np.multiply(rewardsVector, discountingVector))\n",
    "            if(tau + n < T):\n",
    "                G = G + agent.gamma**n * agent.Q[agent.state_memory[tau + n].astype('int'), agent.action_memory[tau+n].astype('int')]\n",
    "            agent.Q[agent.state_memory[tau].astype('int'), agent.action_memory[tau].astype('int')] += agent.alpha * (G - agent.Q[agent.state_memory[tau].astype('int'), agent.action_memory[tau].astype('int')])\n",
    "                \n",
    "        if(tau==T-1):\n",
    "            break\n",
    "            \n",
    "        if(t%1000==0):\n",
    "            print('t, eps = ', t, agent.epst)\n",
    "            plt.plot(agent.Q[:,0], label='action 0')\n",
    "            plt.plot(agent.Q[:,1], label='action 1')\n",
    "            plt.xlabel('state'), plt.ylabel('Q(s,a)'),plt.title('Optimal policy at eps = ' + str(agent.epst))\n",
    "            plt.legend(), plt.show()"
   ]
  },
  {
   "cell_type": "markdown",
   "metadata": {},
   "source": [
    "n-step SARSA, randomly initialized state"
   ]
  },
  {
   "cell_type": "code",
   "execution_count": null,
   "metadata": {},
   "outputs": [],
   "source": [
    "# pdb.set_trace()\n",
    "agent = AgentNstepSARSA(env, no_steps=2, eps=0.5, epsDecay=True)\n",
    "n = agent.no_steps\n",
    "for ep in range(10):\n",
    "    print('ep = ' + str(ep))\n",
    "    state = env.reset()\n",
    "    action = agent.chooseActionEps(state)\n",
    "    agent.state_memory[0], agent.action_memory[0] =  state, action\n",
    "    T = 10000\n",
    "    for t in range(T):\n",
    "        if(t < T):\n",
    "            state, reward, done, _ = env.step(action)\n",
    "            agent.state_memory[t+1], agent.reward_memory[t+1] = state, reward\n",
    "            if(done):\n",
    "                print(\"done\")\n",
    "                T = t + 1\n",
    "            else:\n",
    "                action = agent.chooseActionEps(state)\n",
    "                agent.action_memory[t+1] = action\n",
    "        tau  = t - n + 1\n",
    "        if(tau>=0):\n",
    "            rewardsVector = agent.reward_memory[tau+1:np.minimum(tau+n,T)]\n",
    "            discountingVector = np.power(agent.gamma, np.arange(0, rewardsVector.shape[0]))\n",
    "            G = np.sum(np.multiply(rewardsVector, discountingVector))\n",
    "            if(tau + n < T):\n",
    "                G = G + agent.gamma**n * agent.Q[agent.state_memory[tau + n].astype('int'), agent.action_memory[tau+n].astype('int')]\n",
    "            agent.Q[agent.state_memory[tau].astype('int'), agent.action_memory[tau].astype('int')] += agent.alpha * (G - agent.Q[agent.state_memory[tau].astype('int'), agent.action_memory[tau].astype('int')])\n",
    "                \n",
    "        if(tau==T-1):\n",
    "            break\n",
    "            \n",
    "        if(t%1000==0):\n",
    "            print('t, eps = ', t, agent.epst)\n",
    "            plt.plot(agent.Q[:,0], label='action 0')\n",
    "            plt.plot(agent.Q[:,1], label='action 1')\n",
    "            plt.xlabel('state'), plt.ylabel('Q(s,a)'),plt.title('Optimal policy at eps = ' + str(agent.epst))\n",
    "            plt.legend(), plt.show()"
   ]
  }
 ],
 "metadata": {
  "kernelspec": {
   "display_name": "Python 3",
   "language": "python",
   "name": "python3"
  },
  "language_info": {
   "codemirror_mode": {
    "name": "ipython",
    "version": 3
   },
   "file_extension": ".py",
   "mimetype": "text/x-python",
   "name": "python",
   "nbconvert_exporter": "python",
   "pygments_lexer": "ipython3",
   "version": "3.6.5"
  }
 },
 "nbformat": 4,
 "nbformat_minor": 2
}
