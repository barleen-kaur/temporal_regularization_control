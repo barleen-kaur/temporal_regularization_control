{
  "nbformat": 4,
  "nbformat_minor": 0,
  "metadata": {
    "colab": {
      "name": "DQN-with-temp-reg.ipynb",
      "version": "0.3.2",
      "provenance": [],
      "collapsed_sections": []
    },
    "kernelspec": {
      "name": "python3",
      "display_name": "Python 3"
    },
    "accelerator": "GPU"
  },
  "cells": [
    {
      "metadata": {
        "id": "yaQF1_iBYekN",
        "colab_type": "code",
        "colab": {}
      },
      "cell_type": "code",
      "source": [
        "# RL-Adventure code: https://github.com/higgsfield/RL-Adventure/blob/master/1.dqn.ipynb\n",
        "# PyTorch\n",
        "# Understood code : to certain extent, with almost no doubts, but go through again\n",
        "# DQN uses CNN: Atari one does, simple change for OpenAI gym\n",
        "# GPU support : Yes\n",
        "# Double Q learning support: Yes\n",
        "# PER: Has prioritized experience replay\n",
        "# Comparison with DeepMind paper results: For pong, the score of 19 was achieved\n",
        "# Remarks: Does not use 2 separate networks (i.e. target network and policy network)\n",
        "# Pong DQN running time (for 1,400,000 frames with PongNoFrameskip-v4) : around 6.5 hrs"
      ],
      "execution_count": 0,
      "outputs": []
    },
    {
      "metadata": {
        "id": "j3Sxh3e2XFa0",
        "colab_type": "code",
        "outputId": "736414e7-39b1-4402-c7e5-6c08ce3e89cc",
        "colab": {
          "base_uri": "https://localhost:8080/",
          "height": 35
        }
      },
      "cell_type": "code",
      "source": [
        "!git clone https://github.com/higgsfield/RL-Adventure"
      ],
      "execution_count": 23,
      "outputs": [
        {
          "output_type": "stream",
          "text": [
            "fatal: destination path 'RL-Adventure' already exists and is not an empty directory.\n"
          ],
          "name": "stdout"
        }
      ]
    },
    {
      "metadata": {
        "id": "PhwgiUZbLmHC",
        "colab_type": "code",
        "colab": {}
      },
      "cell_type": "code",
      "source": [
        "import math, random\n",
        "\n",
        "import gym\n",
        "import numpy as np\n",
        "\n",
        "import torch\n",
        "import torch.nn as nn\n",
        "import torch.optim as optim\n",
        "import torch.autograd as autograd \n",
        "import torch.nn.functional as F"
      ],
      "execution_count": 0,
      "outputs": []
    },
    {
      "metadata": {
        "id": "moA4B3n2LmHV",
        "colab_type": "code",
        "colab": {}
      },
      "cell_type": "code",
      "source": [
        "from IPython.display import clear_output\n",
        "import matplotlib.pyplot as plt\n",
        "%matplotlib inline"
      ],
      "execution_count": 0,
      "outputs": []
    },
    {
      "metadata": {
        "id": "F8pH0d6HLmHg",
        "colab_type": "text"
      },
      "cell_type": "markdown",
      "source": [
        "<h3>Use Cuda</h3>"
      ]
    },
    {
      "metadata": {
        "id": "CHFK5oGBLmHk",
        "colab_type": "code",
        "colab": {}
      },
      "cell_type": "code",
      "source": [
        "USE_CUDA = torch.cuda.is_available()\n",
        "Variable = lambda *args, **kwargs: autograd.Variable(*args, **kwargs).cuda() if USE_CUDA else autograd.Variable(*args, **kwargs)"
      ],
      "execution_count": 0,
      "outputs": []
    },
    {
      "metadata": {
        "id": "VE_XN11mLmHw",
        "colab_type": "text"
      },
      "cell_type": "markdown",
      "source": [
        "<h2>Replay Buffer</h2>"
      ]
    },
    {
      "metadata": {
        "id": "JiyXGY8ULmHz",
        "colab_type": "code",
        "colab": {}
      },
      "cell_type": "code",
      "source": [
        "from collections import deque\n",
        "\n",
        "#Added space for single number from p in buffer functions #>> temp reg edit \n",
        "\n",
        "class ReplayBuffer(object):\n",
        "    def __init__(self, capacity):\n",
        "        self.buffer = deque(maxlen=capacity)\n",
        "    \n",
        "    def push(self, state, action, reward, next_state, done, p_val):\n",
        "        state      = np.expand_dims(state, 0)\n",
        "        next_state = np.expand_dims(next_state, 0)\n",
        "        self.buffer.append((state, action, reward, next_state, done, p_val))\n",
        "    \n",
        "    def sample(self, batch_size):\n",
        "        state, action, reward, next_state, done, p_val = zip(*random.sample(self.buffer, batch_size))\n",
        "        return np.concatenate(state), action, reward, np.concatenate(next_state), done, p_val\n",
        "    \n",
        "    def __len__(self):\n",
        "        return len(self.buffer)"
      ],
      "execution_count": 0,
      "outputs": []
    },
    {
      "metadata": {
        "id": "qHLg8vZXLmH5",
        "colab_type": "text"
      },
      "cell_type": "markdown",
      "source": [
        "<h2>Cart Pole Environment</h2>"
      ]
    },
    {
      "metadata": {
        "id": "lm7Leh02LmH8",
        "colab_type": "code",
        "colab": {}
      },
      "cell_type": "code",
      "source": [
        "env_id = \"CartPole-v0\"\n",
        "env = gym.make(env_id)"
      ],
      "execution_count": 0,
      "outputs": []
    },
    {
      "metadata": {
        "id": "vNGaOzDXLmIJ",
        "colab_type": "text"
      },
      "cell_type": "markdown",
      "source": [
        "<h2>Epsilon greedy exploration</h2>"
      ]
    },
    {
      "metadata": {
        "id": "7F4aAc4qLmIN",
        "colab_type": "code",
        "colab": {}
      },
      "cell_type": "code",
      "source": [
        "epsilon_start = 1.0\n",
        "epsilon_final = 0.01\n",
        "epsilon_decay = 500\n",
        "\n",
        "epsilon_by_frame = lambda frame_idx: epsilon_final + (epsilon_start - epsilon_final) * math.exp(-1. * frame_idx / epsilon_decay)"
      ],
      "execution_count": 0,
      "outputs": []
    },
    {
      "metadata": {
        "id": "msVopRYcLmIY",
        "colab_type": "code",
        "outputId": "7589c3ac-e542-4d0f-b82a-e2a9f3a357b8",
        "colab": {
          "base_uri": "https://localhost:8080/",
          "height": 283
        }
      },
      "cell_type": "code",
      "source": [
        "plt.plot([epsilon_by_frame(i) for i in range(10000)])"
      ],
      "execution_count": 30,
      "outputs": [
        {
          "output_type": "execute_result",
          "data": {
            "text/plain": [
              "[<matplotlib.lines.Line2D at 0x7f5a90095438>]"
            ]
          },
          "metadata": {
            "tags": []
          },
          "execution_count": 30
        },
        {
          "output_type": "display_data",
          "data": {
            "image/png": "[encoded data removed]",
            "text/plain": [
              "<Figure size 432x288 with 1 Axes>"
            ]
          },
          "metadata": {
            "tags": []
          }
        }
      ]
    },
    {
      "metadata": {
        "id": "3SXauzlqLmIs",
        "colab_type": "text"
      },
      "cell_type": "markdown",
      "source": [
        "<h2>Deep Q Network</h2>"
      ]
    },
    {
      "metadata": {
        "id": "PVoo1LAGLmI0",
        "colab_type": "code",
        "colab": {}
      },
      "cell_type": "code",
      "source": [
        "class DQN(nn.Module):\n",
        "    def __init__(self, num_inputs, num_actions):\n",
        "        super(DQN, self).__init__()\n",
        "        \n",
        "        self.layers = nn.Sequential(\n",
        "            nn.Linear(env.observation_space.shape[0], 128),\n",
        "            nn.ReLU(),\n",
        "            nn.Linear(128, 128),\n",
        "            nn.ReLU(),\n",
        "            nn.Linear(128, env.action_space.n)\n",
        "        )\n",
        "        \n",
        "    def forward(self, x):\n",
        "        return self.layers(x)\n",
        "    \n",
        "    def act(self, state, epsilon):\n",
        "        if random.random() > epsilon:\n",
        "            state   = Variable(torch.FloatTensor(state).unsqueeze(0), volatile=True)\n",
        "            q_value = self.forward(state)\n",
        "            action = int(q_value.max(1)[1].data[0].cpu().int().numpy())\n",
        "        else:\n",
        "            action = random.randrange(env.action_space.n)\n",
        "        return action"
      ],
      "execution_count": 0,
      "outputs": []
    },
    {
      "metadata": {
        "id": "n0A1KqFpLmI-",
        "colab_type": "code",
        "colab": {}
      },
      "cell_type": "code",
      "source": [
        "model = DQN(env.observation_space.shape[0], env.action_space.n)\n",
        "\n",
        "if USE_CUDA:\n",
        "    model = model.cuda()\n",
        "    \n",
        "optimizer = optim.Adam(model.parameters())\n",
        "\n",
        "replay_buffer = ReplayBuffer(1000)"
      ],
      "execution_count": 0,
      "outputs": []
    },
    {
      "metadata": {
        "id": "o3msl8-hLmJG",
        "colab_type": "text"
      },
      "cell_type": "markdown",
      "source": [
        "<h2>Computing Temporal Difference Loss</h2>"
      ]
    },
    {
      "metadata": {
        "id": "i6S5wviiLmJI",
        "colab_type": "code",
        "colab": {}
      },
      "cell_type": "code",
      "source": [
        "def compute_td_loss(batch_size, beta):\n",
        "    state, action, reward, next_state, done, p_val = replay_buffer.sample(batch_size)\n",
        "\n",
        "    state      = Variable(torch.FloatTensor(np.float32(state)))\n",
        "    next_state = Variable(torch.FloatTensor(np.float32(next_state)), volatile=True)\n",
        "    action     = Variable(torch.LongTensor(action))\n",
        "    reward     = Variable(torch.FloatTensor(reward))\n",
        "    done       = Variable(torch.FloatTensor(done))\n",
        "    # Using value from p vector >> temp reg edit\n",
        "    p_val      = Variable(torch.FloatTensor(p_val))\n",
        "\n",
        "    q_values      = model(state)\n",
        "    next_q_values = model(next_state)\n",
        "\n",
        "    q_value          = q_values.gather(1, action.unsqueeze(1)).squeeze(1)\n",
        "    next_q_value     = next_q_values.max(1)[0]\n",
        "    \n",
        "    # Changing the target to the temporally regularized target >> temp reg edit \n",
        "    expected_q_value = reward + gamma * ((1-beta)* next_q_value * (1 - done) + beta * p_val)\n",
        "    loss = (q_value - Variable(expected_q_value.data)).pow(2).mean()\n",
        "        \n",
        "    optimizer.zero_grad()\n",
        "    loss.backward()\n",
        "    optimizer.step()\n",
        "    \n",
        "    return loss"
      ],
      "execution_count": 0,
      "outputs": []
    },
    {
      "metadata": {
        "id": "Or8fnrRLLmJQ",
        "colab_type": "code",
        "colab": {}
      },
      "cell_type": "code",
      "source": [
        "def plot(frame_idx, rewards, losses):\n",
        "    clear_output(True)\n",
        "    plt.figure(figsize=(20,5))\n",
        "    plt.subplot(131)\n",
        "    plt.title('frame %s. reward: %s' % (frame_idx, np.mean(rewards[-10:])))\n",
        "    plt.plot(rewards)\n",
        "    plt.subplot(132)\n",
        "    plt.title('loss')\n",
        "    plt.plot(losses)\n",
        "    plt.show()"
      ],
      "execution_count": 0,
      "outputs": []
    },
    {
      "metadata": {
        "id": "R0FpydBJLmJa",
        "colab_type": "text"
      },
      "cell_type": "markdown",
      "source": [
        "<h2>Training</h2>"
      ]
    },
    {
      "metadata": {
        "id": "MDHf92n3LmJc",
        "colab_type": "code",
        "outputId": "fb292940-e313-49d8-8710-e145beb10bd3",
        "colab": {
          "base_uri": "https://localhost:8080/",
          "height": 335
        }
      },
      "cell_type": "code",
      "source": [
        "num_frames = 10000\n",
        "batch_size = 32\n",
        "gamma      = 0.99\n",
        "beta = 0 #>> temp reg edit\n",
        "lamb = 0.5 #>> temp reg edit\n",
        "\n",
        "losses = []\n",
        "all_rewards = []\n",
        "episode_reward = 0\n",
        "\n",
        "state = env.reset()\n",
        "#initialize p vector as q(state,a) for all a #>> temp reg edit\n",
        "state_var = Variable(torch.FloatTensor(np.float32(state)))\n",
        "p = model(state_var).detach().cpu().numpy()\n",
        "\n",
        "for frame_idx in range(1, num_frames + 1):\n",
        "    epsilon = epsilon_by_frame(frame_idx)\n",
        "    action = model.act(state, epsilon)\n",
        "    \n",
        "    next_state, reward, done, _ = env.step(action)\n",
        "    #push the \"action\" component of p into the buffer also #>> temp reg edit \n",
        "    replay_buffer.push(state, action, reward, next_state, done, p[action])\n",
        "    \n",
        "    state = next_state\n",
        "    episode_reward += reward\n",
        "    \n",
        "    if done:\n",
        "        state = env.reset()\n",
        "        all_rewards.append(episode_reward)\n",
        "        episode_reward = 0\n",
        "        #initialize p vector as q(state,a) for all a #>> temp reg edit\n",
        "        state_var = Variable(torch.FloatTensor(np.float32(state)))\n",
        "        p = model(state_var).detach().cpu().numpy()\n",
        "        \n",
        "    if len(replay_buffer) > batch_size:\n",
        "        #Need to pass beta into this >> temp reg edit \n",
        "        loss = compute_td_loss(batch_size, beta = beta)\n",
        "        losses.append(loss.data.item())\n",
        "        \n",
        "    if frame_idx % 200 == 0:\n",
        "        plot(frame_idx, all_rewards, losses)\n",
        "        \n",
        "    #update the p vector for q(state,a) for all a #>> temp reg edit\n",
        "    state_var = Variable(torch.FloatTensor(np.float32(state)))\n",
        "    new_q = model(state_var).detach().cpu().numpy()\n",
        "    p = (1-lamb)*new_q + lamb*p   "
      ],
      "execution_count": 36,
      "outputs": [
        {
          "output_type": "display_data",
          "data": {
            "image/png": "[encoded data removed]",
            "text/plain": [
              "<Figure size 1440x360 with 2 Axes>"
            ]
          },
          "metadata": {
            "tags": []
          }
        }
      ]
    },
    {
      "metadata": {
        "id": "QqYA6o_hTS94",
        "colab_type": "code",
        "colab": {}
      },
      "cell_type": "code",
      "source": [
        "import csv\n",
        "\n",
        "with open('rewards_run=1.csv','w') as f:\n",
        "    writer = csv.writer(f);\n",
        "    writer.writerows(zip(all_rewards));\n",
        "    \n",
        "with open('losses_run=1.csv','w') as f:\n",
        "    writer = csv.writer(f);\n",
        "    writer.writerows(zip(losses));"
      ],
      "execution_count": 0,
      "outputs": []
    },
    {
      "metadata": {
        "id": "CcxiBkqOUhql",
        "colab_type": "code",
        "colab": {}
      },
      "cell_type": "code",
      "source": [
        "torch.save(model.state_dict(),\"weights_run=1.pt\")"
      ],
      "execution_count": 0,
      "outputs": []
    },
    {
      "metadata": {
        "id": "zw_z46lcLmJp",
        "colab_type": "text"
      },
      "cell_type": "markdown",
      "source": [
        "<p><hr></p>"
      ]
    },
    {
      "metadata": {
        "id": "H4A_YSrPLmJs",
        "colab_type": "text"
      },
      "cell_type": "markdown",
      "source": [
        "<h1>Atari Environment</h1>"
      ]
    },
    {
      "metadata": {
        "id": "bVDbJUNhf1wq",
        "colab_type": "code",
        "outputId": "8e6e6ff0-b0be-4ccf-9514-67ccaaf3f34c",
        "colab": {
          "base_uri": "https://localhost:8080/",
          "height": 53
        }
      },
      "cell_type": "code",
      "source": [
        "%cd RL-Adventure/\n",
        "!rm common/__init__.py"
      ],
      "execution_count": 37,
      "outputs": [
        {
          "output_type": "stream",
          "text": [
            "/content/RL-Adventure\n",
            "rm: cannot remove 'common/__init__.py': No such file or directory\n"
          ],
          "name": "stdout"
        }
      ]
    },
    {
      "metadata": {
        "id": "pzSGWQlF1Uer",
        "colab_type": "code",
        "colab": {
          "base_uri": "https://localhost:8080/",
          "height": 35
        },
        "outputId": "0ee007bf-65bb-4bd9-f182-9a580e782f97"
      },
      "cell_type": "code",
      "source": [
        "# Enabling frame skip to be a parameter\n",
        "%%writefile common/wrappers.py\n",
        "import numpy as np\n",
        "from collections import deque\n",
        "import gym\n",
        "from gym import spaces\n",
        "import cv2\n",
        "cv2.ocl.setUseOpenCL(False)\n",
        "\n",
        "class NoopResetEnv(gym.Wrapper):\n",
        "    def __init__(self, env, noop_max=30):\n",
        "        \"\"\"Sample initial states by taking random number of no-ops on reset.\n",
        "        No-op is assumed to be action 0.\n",
        "        \"\"\"\n",
        "        gym.Wrapper.__init__(self, env)\n",
        "        self.noop_max = noop_max\n",
        "        self.override_num_noops = None\n",
        "        self.noop_action = 0\n",
        "        assert env.unwrapped.get_action_meanings()[0] == 'NOOP'\n",
        "\n",
        "    def reset(self, **kwargs):\n",
        "        \"\"\" Do no-op action for a number of steps in [1, noop_max].\"\"\"\n",
        "        self.env.reset(**kwargs)\n",
        "        if self.override_num_noops is not None:\n",
        "            noops = self.override_num_noops\n",
        "        else:\n",
        "            noops = self.unwrapped.np_random.randint(1, self.noop_max + 1) #pylint: disable=E1101\n",
        "        assert noops > 0\n",
        "        obs = None\n",
        "        for _ in range(noops):\n",
        "            obs, _, done, _ = self.env.step(self.noop_action)\n",
        "            if done:\n",
        "                obs = self.env.reset(**kwargs)\n",
        "        return obs\n",
        "\n",
        "    def step(self, ac):\n",
        "        return self.env.step(ac)\n",
        "\n",
        "class FireResetEnv(gym.Wrapper):\n",
        "    def __init__(self, env):\n",
        "        \"\"\"Take action on reset for environments that are fixed until firing.\"\"\"\n",
        "        gym.Wrapper.__init__(self, env)\n",
        "        assert env.unwrapped.get_action_meanings()[1] == 'FIRE'\n",
        "        assert len(env.unwrapped.get_action_meanings()) >= 3\n",
        "\n",
        "    def reset(self, **kwargs):\n",
        "        self.env.reset(**kwargs)\n",
        "        obs, _, done, _ = self.env.step(1)\n",
        "        if done:\n",
        "            self.env.reset(**kwargs)\n",
        "        obs, _, done, _ = self.env.step(2)\n",
        "        if done:\n",
        "            self.env.reset(**kwargs)\n",
        "        return obs\n",
        "\n",
        "    def step(self, ac):\n",
        "        return self.env.step(ac)\n",
        "\n",
        "class EpisodicLifeEnv(gym.Wrapper):\n",
        "    def __init__(self, env):\n",
        "        \"\"\"Make end-of-life == end-of-episode, but only reset on true game over.\n",
        "        Done by DeepMind for the DQN and co. since it helps value estimation.\n",
        "        \"\"\"\n",
        "        gym.Wrapper.__init__(self, env)\n",
        "        self.lives = 0\n",
        "        self.was_real_done  = True\n",
        "\n",
        "    def step(self, action):\n",
        "        obs, reward, done, info = self.env.step(action)\n",
        "        self.was_real_done = done\n",
        "        # check current lives, make loss of life terminal,\n",
        "        # then update lives to handle bonus lives\n",
        "        lives = self.env.unwrapped.ale.lives()\n",
        "        if lives < self.lives and lives > 0:\n",
        "            # for Qbert sometimes we stay in lives == 0 condtion for a few frames\n",
        "            # so its important to keep lives > 0, so that we only reset once\n",
        "            # the environment advertises done.\n",
        "            done = True\n",
        "        self.lives = lives\n",
        "        return obs, reward, done, info\n",
        "\n",
        "    def reset(self, **kwargs):\n",
        "        \"\"\"Reset only when lives are exhausted.\n",
        "        This way all states are still reachable even though lives are episodic,\n",
        "        and the learner need not know about any of this behind-the-scenes.\n",
        "        \"\"\"\n",
        "        if self.was_real_done:\n",
        "            obs = self.env.reset(**kwargs)\n",
        "        else:\n",
        "            # no-op step to advance from terminal/lost life state\n",
        "            obs, _, _, _ = self.env.step(0)\n",
        "        self.lives = self.env.unwrapped.ale.lives()\n",
        "        return obs\n",
        "\n",
        "class MaxAndSkipEnv(gym.Wrapper):\n",
        "    def __init__(self, env, skip=4):\n",
        "        \"\"\"Return only every `skip`-th frame\"\"\"\n",
        "        gym.Wrapper.__init__(self, env)\n",
        "        # most recent raw observations (for max pooling across time steps)\n",
        "        self._obs_buffer = np.zeros((2,)+env.observation_space.shape, dtype=np.uint8)\n",
        "        self._skip       = skip\n",
        "\n",
        "    def reset(self):\n",
        "        return self.env.reset()\n",
        "\n",
        "    def step(self, action):\n",
        "        \"\"\"Repeat action, sum reward, and max over last observations.\"\"\"\n",
        "        total_reward = 0.0\n",
        "        done = None\n",
        "        for i in range(self._skip):\n",
        "            obs, reward, done, info = self.env.step(action)\n",
        "            if i == self._skip - 2: self._obs_buffer[0] = obs\n",
        "            if i == self._skip - 1: self._obs_buffer[1] = obs\n",
        "            total_reward += reward\n",
        "            if done:\n",
        "                break\n",
        "        # Note that the observation on the done=True frame\n",
        "        # doesn't matter\n",
        "        max_frame = self._obs_buffer.max(axis=0)\n",
        "\n",
        "        return max_frame, total_reward, done, info\n",
        "\n",
        "    def reset(self, **kwargs):\n",
        "        return self.env.reset(**kwargs)\n",
        "\n",
        "class ClipRewardEnv(gym.RewardWrapper):\n",
        "    def __init__(self, env):\n",
        "        gym.RewardWrapper.__init__(self, env)\n",
        "\n",
        "    def reward(self, reward):\n",
        "        \"\"\"Bin reward to {+1, 0, -1} by its sign.\"\"\"\n",
        "        return np.sign(reward)\n",
        "\n",
        "class WarpFrame(gym.ObservationWrapper):\n",
        "    def __init__(self, env):\n",
        "        \"\"\"Warp frames to 84x84 as done in the Nature paper and later work.\"\"\"\n",
        "        gym.ObservationWrapper.__init__(self, env)\n",
        "        self.width = 84\n",
        "        self.height = 84\n",
        "        self.observation_space = spaces.Box(low=0, high=255,\n",
        "            shape=(self.height, self.width, 1), dtype=np.uint8)\n",
        "\n",
        "    def observation(self, frame):\n",
        "        frame = cv2.cvtColor(frame, cv2.COLOR_RGB2GRAY)\n",
        "        frame = cv2.resize(frame, (self.width, self.height), interpolation=cv2.INTER_AREA)\n",
        "        return frame[:, :, None]\n",
        "\n",
        "class FrameStack(gym.Wrapper):\n",
        "    def __init__(self, env, k):\n",
        "        \"\"\"Stack k last frames.\n",
        "        Returns lazy array, which is much more memory efficient.\n",
        "        See Also\n",
        "        --------\n",
        "        baselines.common.atari_wrappers.LazyFrames\n",
        "        \"\"\"\n",
        "        gym.Wrapper.__init__(self, env)\n",
        "        self.k = k\n",
        "        self.frames = deque([], maxlen=k)\n",
        "        shp = env.observation_space.shape\n",
        "        self.observation_space = spaces.Box(low=0, high=255, shape=(shp[0], shp[1], shp[2] * k), dtype=np.uint8)\n",
        "\n",
        "    def reset(self):\n",
        "        ob = self.env.reset()\n",
        "        for _ in range(self.k):\n",
        "            self.frames.append(ob)\n",
        "        return self._get_ob()\n",
        "\n",
        "    def step(self, action):\n",
        "        ob, reward, done, info = self.env.step(action)\n",
        "        self.frames.append(ob)\n",
        "        return self._get_ob(), reward, done, info\n",
        "\n",
        "    def _get_ob(self):\n",
        "        assert len(self.frames) == self.k\n",
        "        return LazyFrames(list(self.frames))\n",
        "\n",
        "class ScaledFloatFrame(gym.ObservationWrapper):\n",
        "    def __init__(self, env):\n",
        "        gym.ObservationWrapper.__init__(self, env)\n",
        "\n",
        "    def observation(self, observation):\n",
        "        # careful! This undoes the memory optimization, use\n",
        "        # with smaller replay buffers only.\n",
        "        return np.array(observation).astype(np.float32) / 255.0\n",
        "\n",
        "class LazyFrames(object):\n",
        "    def __init__(self, frames):\n",
        "        \"\"\"This object ensures that common frames between the observations are only stored once.\n",
        "        It exists purely to optimize memory usage which can be huge for DQN's 1M frames replay\n",
        "        buffers.\n",
        "        This object should only be converted to numpy array before being passed to the model.\n",
        "        You'd not believe how complex the previous solution was.\"\"\"\n",
        "        self._frames = frames\n",
        "        self._out = None\n",
        "\n",
        "    def _force(self):\n",
        "        if self._out is None:\n",
        "            self._out = np.concatenate(self._frames, axis=2)\n",
        "            self._frames = None\n",
        "        return self._out\n",
        "\n",
        "    def __array__(self, dtype=None):\n",
        "        out = self._force()\n",
        "        if dtype is not None:\n",
        "            out = out.astype(dtype)\n",
        "        return out\n",
        "\n",
        "    def __len__(self):\n",
        "        return len(self._force())\n",
        "\n",
        "    def __getitem__(self, i):\n",
        "        return self._force()[i]\n",
        "\n",
        "def make_atari(env_id,frame_skip=4):\n",
        "    env = gym.make(env_id)\n",
        "    assert 'NoFrameskip' in env.spec.id\n",
        "    env = NoopResetEnv(env, noop_max=30)\n",
        "    env = MaxAndSkipEnv(env, skip=frame_skip)\n",
        "    return env\n",
        "\n",
        "def wrap_deepmind(env, episode_life=True, clip_rewards=True, frame_stack=False, scale=False):\n",
        "    \"\"\"Configure environment for DeepMind-style Atari.\n",
        "    \"\"\"\n",
        "    if episode_life:\n",
        "        env = EpisodicLifeEnv(env)\n",
        "    if 'FIRE' in env.unwrapped.get_action_meanings():\n",
        "        env = FireResetEnv(env)\n",
        "    env = WarpFrame(env)\n",
        "    if scale:\n",
        "        env = ScaledFloatFrame(env)\n",
        "    if clip_rewards:\n",
        "        env = ClipRewardEnv(env)\n",
        "    if frame_stack:\n",
        "        env = FrameStack(env, 4)\n",
        "    return env\n",
        "\n",
        "\n",
        "\n",
        "class ImageToPyTorch(gym.ObservationWrapper):\n",
        "    \"\"\"\n",
        "    Image shape to num_channels x weight x height\n",
        "    \"\"\"\n",
        "    def __init__(self, env):\n",
        "        super(ImageToPyTorch, self).__init__(env)\n",
        "        old_shape = self.observation_space.shape\n",
        "        self.observation_space = gym.spaces.Box(low=0.0, high=1.0, shape=(old_shape[-1], old_shape[0], old_shape[1]), dtype=np.uint8)\n",
        "\n",
        "    def observation(self, observation):\n",
        "        return np.swapaxes(observation, 2, 0)\n",
        "    \n",
        "\n",
        "def wrap_pytorch(env):\n",
        "    return ImageToPyTorch(env)"
      ],
      "execution_count": 38,
      "outputs": [
        {
          "output_type": "stream",
          "text": [
            "Overwriting common/wrappers.py\n"
          ],
          "name": "stdout"
        }
      ]
    },
    {
      "metadata": {
        "id": "V780OUkLLmJu",
        "colab_type": "code",
        "colab": {}
      },
      "cell_type": "code",
      "source": [
        "from common.wrappers import make_atari, wrap_deepmind, wrap_pytorch"
      ],
      "execution_count": 0,
      "outputs": []
    },
    {
      "metadata": {
        "id": "_ehSqx7nLmJ6",
        "colab_type": "code",
        "colab": {}
      },
      "cell_type": "code",
      "source": [
        "env_id = \"PongNoFrameskip-v4\"                    # Need to use NoFrameskip-v4 versions of Atari games in Gym, else frames will be skipped too much\n",
        "env    = make_atari(env_id, frame_skip=1)        # Added frameskip parameter \n",
        "env    = wrap_deepmind(env)                      # Need to pass frame_stack=True as an argument here. 4 frames are stacked as state\n",
        "env    = wrap_pytorch(env)"
      ],
      "execution_count": 0,
      "outputs": []
    },
    {
      "metadata": {
        "id": "cdt0RzYrLmKA",
        "colab_type": "code",
        "colab": {}
      },
      "cell_type": "code",
      "source": [
        "class CnnDQN(nn.Module):\n",
        "    def __init__(self, input_shape, num_actions):\n",
        "        super(CnnDQN, self).__init__()\n",
        "        \n",
        "        self.input_shape = input_shape\n",
        "        self.num_actions = num_actions\n",
        "        \n",
        "        self.features = nn.Sequential(\n",
        "            nn.Conv2d(input_shape[0], 32, kernel_size=8, stride=4),\n",
        "            nn.ReLU(),\n",
        "            nn.Conv2d(32, 64, kernel_size=4, stride=2),\n",
        "            nn.ReLU(),\n",
        "            nn.Conv2d(64, 64, kernel_size=3, stride=1),\n",
        "            nn.ReLU()\n",
        "        )\n",
        "        \n",
        "        self.fc = nn.Sequential(\n",
        "            nn.Linear(self.feature_size(), 512),\n",
        "            nn.ReLU(),\n",
        "            nn.Linear(512, self.num_actions)\n",
        "        )\n",
        "        \n",
        "    def forward(self, x):\n",
        "        x = self.features(x)\n",
        "        x = x.view(x.size(0), -1)\n",
        "        x = self.fc(x)\n",
        "        return x\n",
        "    \n",
        "    def feature_size(self):\n",
        "        return self.features(autograd.Variable(torch.zeros(1, *self.input_shape))).view(1, -1).size(1)\n",
        "    \n",
        "    def act(self, state, epsilon):\n",
        "        if random.random() > epsilon:\n",
        "            state   = Variable(torch.FloatTensor(np.float32(state)).unsqueeze(0), volatile=True)\n",
        "            q_value = self.forward(state)\n",
        "            action = int(q_value.max(1)[1].data[0].cpu().int().numpy())\n",
        "        else:\n",
        "            action = random.randrange(env.action_space.n)\n",
        "        return action"
      ],
      "execution_count": 0,
      "outputs": []
    },
    {
      "metadata": {
        "id": "4ciuHjGKLmKO",
        "colab_type": "code",
        "colab": {}
      },
      "cell_type": "code",
      "source": [
        "model = CnnDQN(env.observation_space.shape, env.action_space.n)\n",
        "\n",
        "if USE_CUDA:\n",
        "    model = model.cuda()\n",
        "    \n",
        "optimizer = optim.Adam(model.parameters(), lr=0.00001)\n",
        "\n",
        "replay_initial = 10000\n",
        "replay_buffer = ReplayBuffer(100000)     # Deepmind paper used replay buffer of size 1,000,000"
      ],
      "execution_count": 0,
      "outputs": []
    },
    {
      "metadata": {
        "id": "fxgRXzDDLmKa",
        "colab_type": "code",
        "colab": {}
      },
      "cell_type": "code",
      "source": [
        "epsilon_start = 1.0\n",
        "epsilon_final = 0.01     # Deepmind paper used epsilon annealed linearly from 1 to 0.1 over first 1 million frames and fixed at 0.1 thereafter\n",
        "epsilon_decay = 30000\n",
        "\n",
        "epsilon_by_frame = lambda frame_idx: epsilon_final + (epsilon_start - epsilon_final) * math.exp(-1. * frame_idx / epsilon_decay)"
      ],
      "execution_count": 0,
      "outputs": []
    },
    {
      "metadata": {
        "id": "K9yJOWA5LmKj",
        "colab_type": "code",
        "outputId": "b0e3053e-0711-4705-b651-adbc0eecf000",
        "colab": {
          "base_uri": "https://localhost:8080/",
          "height": 283
        }
      },
      "cell_type": "code",
      "source": [
        "plt.plot([epsilon_by_frame(i) for i in range(1000000)])"
      ],
      "execution_count": 44,
      "outputs": [
        {
          "output_type": "execute_result",
          "data": {
            "text/plain": [
              "[<matplotlib.lines.Line2D at 0x7f5a75440eb8>]"
            ]
          },
          "metadata": {
            "tags": []
          },
          "execution_count": 44
        },
        {
          "output_type": "display_data",
          "data": {
            "image/png": "[encoded data removed]",
            "text/plain": [
              "<Figure size 432x288 with 1 Axes>"
            ]
          },
          "metadata": {
            "tags": []
          }
        }
      ]
    },
    {
      "metadata": {
        "id": "pLBo_nL3LmKz",
        "colab_type": "code",
        "outputId": "b7441717-2579-4243-f8ed-1b7138dc8477",
        "colab": {
          "base_uri": "https://localhost:8080/",
          "height": 335
        }
      },
      "cell_type": "code",
      "source": [
        "num_frames = 1400000   # Deepmind paper used 10 million frames\n",
        "batch_size = 32        # Same as Deepmind\n",
        "gamma      = 0.99    \n",
        "beta = 0 #>> temp reg edit\n",
        "lamb = 0.5 #>> temp reg edit\n",
        "\n",
        "losses = []\n",
        "all_rewards = []\n",
        "episode_reward = 0\n",
        "\n",
        "state = env.reset()\n",
        "#initialize p vector as q(state,a) for all a #>> temp reg edit\n",
        "state_var = Variable(torch.FloatTensor(np.float32(state)))\n",
        "state_var = torch.unsqueeze(state_var,0)\n",
        "p = (model(state_var)[0]).detach().cpu().numpy()\n",
        "\n",
        "for frame_idx in range(1, num_frames + 1):\n",
        "    epsilon = epsilon_by_frame(frame_idx)\n",
        "    action = model.act(state, epsilon)\n",
        "    \n",
        "    next_state, reward, done, _ = env.step(action)\n",
        "    #push the \"action\" component of p into the buffer also #>> temp reg edit \n",
        "    replay_buffer.push(state, action, reward, next_state, done, p[action])\n",
        "    \n",
        "    state = next_state\n",
        "    episode_reward += reward\n",
        "    \n",
        "    if done:\n",
        "        state = env.reset()\n",
        "        all_rewards.append(episode_reward)\n",
        "        episode_reward = 0\n",
        "        #initialize p vector as q(state,a) for all a #>> temp reg edit\n",
        "        state_var = Variable(torch.FloatTensor(np.float32(state)))\n",
        "        state_var = torch.unsqueeze(state_var,0)\n",
        "        p = (model(state_var)[0]).detach().cpu().numpy()\n",
        "        \n",
        "    if len(replay_buffer) > replay_initial:\n",
        "        #Need to pass beta into this >> temp reg edit \n",
        "        loss = compute_td_loss(batch_size, beta = beta)\n",
        "        losses.append(loss.data.item())\n",
        "        \n",
        "    if frame_idx % 10000 == 0:\n",
        "        plot(frame_idx, all_rewards, losses)\n",
        "    \n",
        "    #update the p vector for q(state,a) for all a #>> temp reg edit\n",
        "    state_var = Variable(torch.FloatTensor(np.float32(state)))\n",
        "    state_var = torch.unsqueeze(state_var,0)\n",
        "    new_q = (model(state_var)[0]).detach().cpu().numpy()\n",
        "    p = (1-lamb)*new_q + lamb*p"
      ],
      "execution_count": 0,
      "outputs": [
        {
          "output_type": "display_data",
          "data": {
            "image/png": "[encoded data removed]",
            "text/plain": [
              "<Figure size 1440x360 with 2 Axes>"
            ]
          },
          "metadata": {
            "tags": []
          }
        }
      ]
    },
    {
      "metadata": {
        "id": "fX1qvc9TLmK-",
        "colab_type": "code",
        "colab": {}
      },
      "cell_type": "code",
      "source": [
        "import csv\n",
        "\n",
        "with open('rewards.csv','w') as f:\n",
        "    writer = csv.writer(f);\n",
        "    writer.writerows(zip(all_rewards));"
      ],
      "execution_count": 0,
      "outputs": []
    },
    {
      "metadata": {
        "id": "HcEuWmKxm_WK",
        "colab_type": "code",
        "colab": {}
      },
      "cell_type": "code",
      "source": [
        "with open('losses.csv','w') as f:\n",
        "    writer = csv.writer(f);\n",
        "    writer.writerows(zip(losses));"
      ],
      "execution_count": 0,
      "outputs": []
    }
  ]
}